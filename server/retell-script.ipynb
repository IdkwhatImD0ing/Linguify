{
 "cells": [
  {
   "cell_type": "code",
   "execution_count": 2,
   "metadata": {},
   "outputs": [
    {
     "name": "stdout",
     "output_type": "stream",
     "text": [
      "Created agent 'Linguify en-US' with ID: agent_73dd121f0cd13ea5609ae55712\n",
      "Created agent 'Linguify de-DE' with ID: agent_3cc0cca731cf07dffda55f6260\n",
      "Created agent 'Linguify es-ES' with ID: agent_7f3d6900d5b90d5b83f54e566a\n",
      "Created agent 'Linguify hi-IN' with ID: agent_4091d3da0d1d05f86d914e5a46\n",
      "Created agent 'Linguify ja-JP' with ID: agent_a5b39ef768d4a570efc435bf94\n",
      "Created agent 'Linguify pt-PT' with ID: agent_61449e565884e3ac488c0b2edb\n",
      "Created agent 'Linguify fr-FR' with ID: agent_110bc9ef28d43c3d4226b973c8\n",
      "Created agent 'Linguify zh-CN' with ID: agent_8c2e166561c84b638679a15a31\n",
      "Created agent 'Linguify ru-RU' with ID: agent_fce64cf3fe1719190afa06d0db\n",
      "Created agent 'Linguify it-IT' with ID: agent_d628e063f0fa57162a0f9bff0d\n",
      "Created agent 'Linguify ko-KR' with ID: agent_d11d01571d67cfdd8886bba6b3\n",
      "Created agent 'Linguify nl-NL' with ID: agent_24ad8930c4ad41e20841239f8b\n",
      "Created agent 'Linguify pl-PL' with ID: agent_cfebcc06152bcac58c41ec0e2d\n",
      "Created agent 'Linguify tr-TR' with ID: agent_294cbd64cbf10229b8c906c8df\n",
      "Created agent 'Linguify vi-VN' with ID: agent_00684cf26eba6739a8b2f60e36\n"
     ]
    }
   ],
   "source": [
    "from retell import Retell\n",
    "from dotenv import load_dotenv\n",
    "import os\n",
    "\n",
    "load_dotenv()\n",
    "\n",
    "# Initialize the Retell client with your API key\n",
    "client = Retell(\n",
    "    api_key=os.getenv(\"RETELL_API_KEY\"),\n",
    ")\n",
    "\n",
    "# List of languages\n",
    "languages = [\n",
    "    \"en-US\", \"de-DE\", \"es-ES\", \"hi-IN\", \"ja-JP\",\n",
    "    \"pt-PT\", \"fr-FR\", \"zh-CN\", \"ru-RU\", \"it-IT\",\n",
    "    \"ko-KR\", \"nl-NL\", \"pl-PL\", \"tr-TR\", \"vi-VN\"\n",
    "]\n",
    "\n",
    "# Loop through each language and create an agent\n",
    "for language in languages:\n",
    "    agent_name = f\"Linguify {language}\"\n",
    "    agent_response = client.agent.create(\n",
    "        llm_websocket_url=\"wss://fitting-correctly-lioness.ngrok-free.app/llm-websocket\",\n",
    "        voice_id=\"11labs-victoria\",\n",
    "        agent_name=agent_name,\n",
    "        voice_model=\"eleven_multilingual_v2\",\n",
    "        language=language,\n",
    "        normalize_for_speech=True\n",
    "    )\n",
    "    print(f\"Created agent '{agent_name}' with ID: {agent_response.agent_id}\")\n"
   ]
  }
 ],
 "metadata": {
  "kernelspec": {
   "display_name": "linguify",
   "language": "python",
   "name": "python3"
  },
  "language_info": {
   "codemirror_mode": {
    "name": "ipython",
    "version": 3
   },
   "file_extension": ".py",
   "mimetype": "text/x-python",
   "name": "python",
   "nbconvert_exporter": "python",
   "pygments_lexer": "ipython3",
   "version": "3.10.13"
  }
 },
 "nbformat": 4,
 "nbformat_minor": 2
}
